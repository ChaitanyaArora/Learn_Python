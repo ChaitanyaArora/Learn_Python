{
 "cells": [
  {
   "cell_type": "code",
   "execution_count": 1,
   "id": "7dad2058",
   "metadata": {
    "_cell_guid": "b1076dfc-b9ad-4769-8c92-a6c4dae69d19",
    "_uuid": "8f2839f25d086af736a60e9eeb907d3b93b6e0e5",
    "execution": {
     "iopub.execute_input": "2023-04-17T17:19:16.139482Z",
     "iopub.status.busy": "2023-04-17T17:19:16.138497Z",
     "iopub.status.idle": "2023-04-17T17:19:36.899100Z",
     "shell.execute_reply": "2023-04-17T17:19:36.897239Z"
    },
    "papermill": {
     "duration": 20.768338,
     "end_time": "2023-04-17T17:19:36.901847",
     "exception": false,
     "start_time": "2023-04-17T17:19:16.133509",
     "status": "completed"
    },
    "tags": []
   },
   "outputs": [
    {
     "name": "stdout",
     "output_type": "stream",
     "text": [
      "1\n",
      "1\n",
      "1\n",
      "1\n",
      "1\n",
      "1\n",
      "1\n",
      "1\n",
      "1\n",
      "1\n",
      "1\n",
      "1\n",
      "1\n",
      "1\n",
      "1\n",
      "1\n",
      "1\n",
      "1\n",
      "1\n",
      "1\n",
      "1\n",
      "1\n",
      "1\n"
     ]
    }
   ],
   "source": [
    "import smtplib\n",
    "import time\n",
    "# list of email addresses\n",
    "recipients = ['mcdbranchrajniwas@gmail.com','commissioner@mcd.nic.in','lggc.delhi@nic.in','astolg.delhi@nic.in','carora3163@gmail.com','acrohinizone@gmail.com','mpgupta63@gmail.com','se1rohinizone@gmail.com','vkguptase@gmail.com','eeb1rz@gmail.com','eeprojectrohini.1@gmail.com', 'eemrz1@gmail.com', 'eemiiirz@gmail.com', 'eemrziv@gmail.com', 'duggal008@gmail.com', 'dca.rohini@yahoo.in', 'alorohinizone@gmail.com', 'dhorohinizone15@gmail.com', 'camo_rz@yahoo.com', 'dderz.mcd@gmail.com', 'ddvsrohini@gmail.com', 'ssrzzoneloffice@gmail.com', 'croomrz85@gmail.com']\n",
    "\n",
    "# message to be sent\n",
    "message = \"\"\"From: Ajmani\n",
    "Subject: Residential Property Basement For Running Garment Factory\n",
    "\n",
    "Dear,\n",
    "\n",
    "I filed a grievance with LG Listening post vide no 2023004281  regarding usage of residential basement of E-39 Prahshant Vihar, Rohini, Sector 14, Dellhi -110085 for running into Garments factory.  The said grievance has not been responded to by the concerned officials and the Garments factory continues to run in the basement of said residential premise.As per the information this grievance is pending at your end.\n",
    "\n",
    "I would request you to, take appropriate  action taken on my Grievance\n",
    "\n",
    "Thanks with regards,\n",
    "\n",
    "Ajmani \"\"\"\n",
    "# login credentials\n",
    "username = \"carora3163@gmail.com\"\n",
    "password = \"lcsoblvcfbpskvjz\"\n",
    "\n",
    "# sending the mail\n",
    "with smtplib.SMTP('smtp.gmail.com', 587) as server:\n",
    "    server.ehlo()\n",
    "    server.starttls()\n",
    "    server.login(username, password)\n",
    "    for recipient in recipients:\n",
    "        server.sendmail(username, recipient, message)\n",
    "        done = 0\n",
    "        done = done+1 \n",
    "        print (done)\n",
    "        #time.sleep(1)\n",
    "    server.quit()"
   ]
  },
  {
   "cell_type": "code",
   "execution_count": null,
   "id": "a9e1bae2",
   "metadata": {
    "papermill": {
     "duration": 0.003262,
     "end_time": "2023-04-17T17:19:36.908838",
     "exception": false,
     "start_time": "2023-04-17T17:19:36.905576",
     "status": "completed"
    },
    "tags": []
   },
   "outputs": [],
   "source": []
  },
  {
   "cell_type": "code",
   "execution_count": null,
   "id": "9c1a3558",
   "metadata": {
    "papermill": {
     "duration": 0.003128,
     "end_time": "2023-04-17T17:19:36.915379",
     "exception": false,
     "start_time": "2023-04-17T17:19:36.912251",
     "status": "completed"
    },
    "tags": []
   },
   "outputs": [],
   "source": []
  },
  {
   "cell_type": "code",
   "execution_count": null,
   "id": "2ef7c1b9",
   "metadata": {
    "papermill": {
     "duration": 0.002985,
     "end_time": "2023-04-17T17:19:36.921599",
     "exception": false,
     "start_time": "2023-04-17T17:19:36.918614",
     "status": "completed"
    },
    "tags": []
   },
   "outputs": [],
   "source": []
  }
 ],
 "metadata": {
  "kernelspec": {
   "display_name": "Python 3",
   "language": "python",
   "name": "python3"
  },
  "language_info": {
   "codemirror_mode": {
    "name": "ipython",
    "version": 3
   },
   "file_extension": ".py",
   "mimetype": "text/x-python",
   "name": "python",
   "nbconvert_exporter": "python",
   "pygments_lexer": "ipython3",
   "version": "3.7.12"
  },
  "papermill": {
   "default_parameters": {},
   "duration": 31.426652,
   "end_time": "2023-04-17T17:19:37.647375",
   "environment_variables": {},
   "exception": null,
   "input_path": "__notebook__.ipynb",
   "output_path": "__notebook__.ipynb",
   "parameters": {},
   "start_time": "2023-04-17T17:19:06.220723",
   "version": "2.3.4"
  }
 },
 "nbformat": 4,
 "nbformat_minor": 5
}
